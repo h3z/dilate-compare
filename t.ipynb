{
 "cells": [
  {
   "cell_type": "code",
   "execution_count": 22,
   "metadata": {},
   "outputs": [
    {
     "name": "stdout",
     "output_type": "stream",
     "text": [
      "The lab_black extension is already loaded. To reload it, use:\n",
      "  %reload_ext lab_black\n",
      "The autoreload extension is already loaded. To reload it, use:\n",
      "  %reload_ext autoreload\n"
     ]
    }
   ],
   "source": [
    "%load_ext lab_black\n",
    "%load_ext autoreload\n",
    "%autoreload 2\n",
    "\n",
    "from data import DataReader\n",
    "from dilate.dilate import dilate_loss\n",
    "import torch\n",
    "import sys\n",
    "\n",
    "sys.setrecursionlimit(100000)"
   ]
  },
  {
   "cell_type": "code",
   "execution_count": 3,
   "metadata": {},
   "outputs": [],
   "source": [
    "dr = DataReader()\n",
    "df = dr.train.query(\"id == 1\")"
   ]
  },
  {
   "cell_type": "code",
   "execution_count": 4,
   "metadata": {},
   "outputs": [],
   "source": [
    "windows = []\n",
    "window_size = 144\n",
    "for i in range(df.shape[0]):\n",
    "    windows.append(df.iloc[i : i + window_size, -1].values)"
   ]
  },
  {
   "cell_type": "code",
   "execution_count": 5,
   "metadata": {},
   "outputs": [],
   "source": [
    "loss = dilate_loss(alpha=0.5, gamma=0.001, device=\"cuda\")\n",
    "mse = torch.nn.MSELoss()"
   ]
  },
  {
   "cell_type": "code",
   "execution_count": 23,
   "metadata": {},
   "outputs": [
    {
     "name": "stdout",
     "output_type": "stream",
     "text": [
      "147 ms ± 9.13 ms per loop (mean ± std. dev. of 7 runs, 10 loops each)\n"
     ]
    }
   ],
   "source": [
    "%%timeit\n",
    "batch = 1\n",
    "\n",
    "for i, _ in enumerate(windows):\n",
    "    for j, _ in enumerate(windows):\n",
    "        i = (\n",
    "            torch.tensor(windows[i : i + batch])\n",
    "            # .to(\"cuda\")\n",
    "            .view(batch, -1, 1)\n",
    "        )\n",
    "        j = (\n",
    "            torch.tensor(windows[j : j + batch])\n",
    "            # .to(\"cuda\")\n",
    "            .view(batch, -1, 1)\n",
    "        )\n",
    "        l = loss(i, j)\n",
    "        # mse(i, j)\n",
    "        # l.backward()\n",
    "        break\n",
    "    break"
   ]
  },
  {
   "cell_type": "code",
   "execution_count": 24,
   "metadata": {},
   "outputs": [],
   "source": [
    "from numba import cuda"
   ]
  },
  {
   "cell_type": "code",
   "execution_count": 25,
   "metadata": {},
   "outputs": [
    {
     "name": "stdout",
     "output_type": "stream",
     "text": [
      "<Managed Device 0>, <Managed Device 1>, <Managed Device 2>, <Managed Device 3>, <Managed Device 4>, <Managed Device 5>, <Managed Device 6>, <Managed Device 7>\n"
     ]
    }
   ],
   "source": [
    "print(cuda.gpus)"
   ]
  }
 ],
 "metadata": {
  "interpreter": {
   "hash": "fb4c96853fcfc42068356d506b40799dd946c409400c97a6149b95f77b0416a6"
  },
  "kernelspec": {
   "display_name": "Python 3.8.12 ('kdd')",
   "language": "python",
   "name": "python3"
  },
  "language_info": {
   "codemirror_mode": {
    "name": "ipython",
    "version": 3
   },
   "file_extension": ".py",
   "mimetype": "text/x-python",
   "name": "python",
   "nbconvert_exporter": "python",
   "pygments_lexer": "ipython3",
   "version": "3.8.12"
  },
  "orig_nbformat": 4
 },
 "nbformat": 4,
 "nbformat_minor": 2
}
